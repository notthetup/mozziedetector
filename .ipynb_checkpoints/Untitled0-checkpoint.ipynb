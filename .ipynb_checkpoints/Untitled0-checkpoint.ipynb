{
 "metadata": {
  "name": "",
  "signature": "sha256:a70d81647a2429a9d46426d58f1994caad184f51b91bd7ff2dbf584d17fd778e"
 },
 "nbformat": 3,
 "nbformat_minor": 0,
 "worksheets": []
}